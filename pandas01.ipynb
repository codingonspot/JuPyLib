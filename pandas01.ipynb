{
 "cells": [
  {
   "cell_type": "code",
   "execution_count": 1,
   "metadata": {},
   "outputs": [
    {
     "name": "stdout",
     "output_type": "stream",
     "text": [
      "         Quantity  Price  TotalSales\n",
      "Product                             \n",
      "apple          14   20.0       280.0\n",
      "banana          2    6.5        13.0\n",
      "orange          3    4.5        13.5\n"
     ]
    }
   ],
   "source": [
    "import pandas as pd\n",
    "\n",
    "def total_sales_by_product(dataframe):\n",
    "    grouped_sales = dataframe.groupby('Product').agg({'Quantity':'sum','Price':'sum'})\n",
    "    grouped_sales['TotalSales'] = grouped_sales['Quantity'] * grouped_sales['Price']\n",
    "    return grouped_sales\n",
    "\n",
    "sales = pd.DataFrame({'Product': ['apple', 'orange', 'apple', 'banana', 'apple', 'apple'],\n",
    "'Quantity': [2, 3, 5, 2, 4, 3],\n",
    "'Price': [5.0, 4.5, 5.5, 6.5, 4.5, 5.0]})\n",
    "result = total_sales_by_product(sales)\n",
    "print(result)"
   ]
  },
  {
   "cell_type": "code",
   "execution_count": null,
   "metadata": {},
   "outputs": [],
   "source": []
  }
 ],
 "metadata": {
  "kernelspec": {
   "display_name": "venv",
   "language": "python",
   "name": "python3"
  },
  "language_info": {
   "codemirror_mode": {
    "name": "ipython",
    "version": 3
   },
   "file_extension": ".py",
   "mimetype": "text/x-python",
   "name": "python",
   "nbconvert_exporter": "python",
   "pygments_lexer": "ipython3",
   "version": "3.9.0"
  },
  "orig_nbformat": 4
 },
 "nbformat": 4,
 "nbformat_minor": 2
}
