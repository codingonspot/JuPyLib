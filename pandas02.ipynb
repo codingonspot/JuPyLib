{
 "cells": [
  {
   "cell_type": "code",
   "execution_count": 6,
   "metadata": {},
   "outputs": [
    {
     "name": "stdout",
     "output_type": "stream",
     "text": [
      "         Sales     Profit\n",
      "Region                   \n",
      "East    693994  204793.33\n",
      "North   693247  207325.87\n",
      "South   671916  201441.57\n",
      "West    699160  210111.31\n",
      "\n",
      "Top 3 highest-selling products:\n",
      "     Product  Sales\n",
      "792        A    500\n",
      "1359       A    500\n",
      "1601       A    500\n",
      "\n",
      "Top 3 most profitable products:\n",
      "     Product  Profit\n",
      "3235       B  245.74\n",
      "5599       A  245.38\n",
      "889        A  242.61\n",
      "     Region Product  Sales  Profit  Profit Margin\n",
      "0     North       A    386   69.49           0.18\n",
      "1      East       A    242   96.11           0.40\n",
      "2     North       B    421  151.11           0.36\n",
      "3      West       B    490   49.71           0.10\n",
      "4     North       C    487   55.25           0.11\n",
      "...     ...     ...    ...     ...            ...\n",
      "9995   West       B    311  110.62           0.36\n",
      "9996   East       C    298  141.34           0.47\n",
      "9997  South       A    229  101.80           0.44\n",
      "9998  North       A    149   41.85           0.28\n",
      "9999   West       C    377   43.62           0.12\n",
      "\n",
      "[10000 rows x 5 columns]\n",
      "The updated DataFrame was saved as \"updated_sales_data.csv\"\n"
     ]
    }
   ],
   "source": [
    "import pandas as pd\n",
    "sales = pd.read_csv(\"sales_data.csv\")\n",
    "sales.head()\n",
    "region_sales_profit = sales.groupby('Region')[['Sales', 'Profit']].sum()\n",
    "print(region_sales_profit)\n",
    "higgest_sales_products = sales.nlargest(3, 'Sales') \n",
    "higgest_profit_products = sales.nlargest(3, 'Profit') \n",
    "print('\\nTop 3 highest-selling products:') \n",
    "print(higgest_sales_products[['Product', 'Sales']]) \n",
    "print('\\nTop 3 most profitable products:') \n",
    "print(higgest_profit_products[['Product', 'Profit']])\n",
    "sales['Profit Margin'] = sales['Profit'] / sales['Sales'] \n",
    "r = round(sales,2)\n",
    "print(r)\n",
    "sales.to_csv('updated_sales_data.csv', index=False) \n",
    "print('The updated DataFrame was saved as \"updated_sales_data.csv\"')"
   ]
  },
  {
   "cell_type": "code",
   "execution_count": null,
   "metadata": {},
   "outputs": [],
   "source": []
  }
 ],
 "metadata": {
  "kernelspec": {
   "display_name": "venv",
   "language": "python",
   "name": "python3"
  },
  "language_info": {
   "codemirror_mode": {
    "name": "ipython",
    "version": 3
   },
   "file_extension": ".py",
   "mimetype": "text/x-python",
   "name": "python",
   "nbconvert_exporter": "python",
   "pygments_lexer": "ipython3",
   "version": "3.9.0"
  },
  "orig_nbformat": 4
 },
 "nbformat": 4,
 "nbformat_minor": 2
}
